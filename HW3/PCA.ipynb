{
 "cells": [
  {
   "cell_type": "code",
   "execution_count": 4,
   "metadata": {},
   "outputs": [],
   "source": [
    "from sklearn.datasets import fetch_mldata\n",
    "import numpy as np\n",
    "import matplotlib.pyplot as plt\n",
    "import time\n",
    "import collections\n",
    "from sklearn.metrics.pairwise import euclidean_distances\n",
    "from sklearn.metrics.pairwise import cosine_similarity\n",
    "from sklearn.model_selection import train_test_split\n",
    "from scipy.sparse.linalg import svds\n",
    "from sklearn.preprocessing import StandardScaler\n",
    "import operator\n",
    "from custom import calculateEvaluationmatrixnew"
   ]
  },
  {
   "cell_type": "code",
   "execution_count": 5,
   "metadata": {},
   "outputs": [],
   "source": [
    "nist = fetch_mldata('MNIST original')\n",
    "mnist = nist.data\n",
    "mnistnew = mnist/255;\n",
    "X_train, X_test, label_train, label_test = train_test_split(mnistnew,nist.target , test_size=0.09, random_state=42)"
   ]
  },
  {
   "cell_type": "code",
   "execution_count": 4,
   "metadata": {},
   "outputs": [],
   "source": [
    "data = X_train"
   ]
  },
  {
   "cell_type": "code",
   "execution_count": 5,
   "metadata": {},
   "outputs": [
    {
     "name": "stdout",
     "output_type": "stream",
     "text": [
      "(784, 784)\n",
      "63700\n"
     ]
    }
   ],
   "source": [
    "meanvector = np.mean(data,axis = 0)\n",
    "stdmid = np.zeros((784,784))\n",
    "for i in range(data.shape[0]):\n",
    "    temp = (data[i] - meanvector).reshape(784,1)\n",
    "    a = np.matmul(temp,temp.transpose())\n",
    "    stdmid += a\n",
    "stdmid = np.array(stdmid)\n",
    "print(stdmid.shape)\n",
    "print(data.shape[0])"
   ]
  },
  {
   "cell_type": "code",
   "execution_count": 6,
   "metadata": {},
   "outputs": [
    {
     "name": "stdout",
     "output_type": "stream",
     "text": [
      "(784, 5)\n"
     ]
    }
   ],
   "source": [
    "stdmidNor = stdmid/(data.shape[0] -1)\n",
    "a = StandardScaler().fit_transform(X_train)\n",
    "u,s,v = svds(stdmidNor,5)\n",
    "print(u.shape)"
   ]
  },
  {
   "cell_type": "code",
   "execution_count": 103,
   "metadata": {},
   "outputs": [],
   "source": [
    "# stdmidNor = stdmid/(data.shape[0] - 1)\n",
    "# eigenvals, eigvecs = np.linalg.eigh(u)\n",
    "# print(eigvecs)\n",
    "# matrix_w = np.hstack((eigvecs[0].reshape(784,1),eigvecs[1].reshape(784,1)))\n",
    "# for i in range(2,5):\n",
    "#     matrix_w = np.hstack((matrix_w,eigvecs[i].reshape(784,1)))\n",
    "# print(matrix_w.shape)"
   ]
  },
  {
   "cell_type": "code",
   "execution_count": 7,
   "metadata": {},
   "outputs": [
    {
     "name": "stdout",
     "output_type": "stream",
     "text": [
      "(63700, 5)\n",
      "(6300, 5)\n"
     ]
    }
   ],
   "source": [
    "Ytrain = np.matmul(X_train,u)\n",
    "Ytest = np.matmul(X_test,u)\n",
    "print(Ytrain.shape) \n",
    "print(Ytest.shape)"
   ]
  },
  {
   "cell_type": "code",
   "execution_count": 8,
   "metadata": {},
   "outputs": [],
   "source": [
    "from sklearn.linear_model import LogisticRegression\n",
    "LR = LogisticRegression()\n",
    "LResult = LR.fit(Ytrain,label_train)"
   ]
  },
  {
   "cell_type": "code",
   "execution_count": 9,
   "metadata": {},
   "outputs": [
    {
     "data": {
      "text/plain": [
       "0.6525396825396825"
      ]
     },
     "execution_count": 9,
     "metadata": {},
     "output_type": "execute_result"
    }
   ],
   "source": [
    "LResult.score(Ytest,label_test)"
   ]
  },
  {
   "cell_type": "code",
   "execution_count": 10,
   "metadata": {},
   "outputs": [
    {
     "name": "stdout",
     "output_type": "stream",
     "text": [
      "(63700, 20)\n",
      "(6300, 20)\n"
     ]
    },
    {
     "data": {
      "text/plain": [
       "0.86"
      ]
     },
     "execution_count": 10,
     "metadata": {},
     "output_type": "execute_result"
    }
   ],
   "source": [
    "u,s,v = svds(stdmidNor,20)\n",
    "Ytrain = X_train.dot(u)\n",
    "Ytest = X_test.dot(u)\n",
    "print(Ytrain.shape)\n",
    "print(Ytest.shape)\n",
    "\n",
    "LResult = LR.fit(Ytrain,label_train)\n",
    "LResult.score(Ytest,label_test)"
   ]
  },
  {
   "cell_type": "code",
   "execution_count": 1,
   "metadata": {},
   "outputs": [],
   "source": [
    "from sklearn.decomposition import PCA\n",
    "pca5 = PCA(n_components=5)"
   ]
  },
  {
   "cell_type": "code",
   "execution_count": 6,
   "metadata": {},
   "outputs": [],
   "source": [
    "resultpca5 = pca5.fit(X_train)"
   ]
  },
  {
   "cell_type": "code",
   "execution_count": 8,
   "metadata": {},
   "outputs": [
    {
     "name": "stdout",
     "output_type": "stream",
     "text": [
      "(63700, 5)\n"
     ]
    },
    {
     "ename": "NameError",
     "evalue": "name 'LR' is not defined",
     "output_type": "error",
     "traceback": [
      "\u001b[0;31m---------------------------------------------------------------------------\u001b[0m",
      "\u001b[0;31mNameError\u001b[0m                                 Traceback (most recent call last)",
      "\u001b[0;32m<ipython-input-8-51bfdacbd189>\u001b[0m in \u001b[0;36m<module>\u001b[0;34m()\u001b[0m\n\u001b[1;32m      3\u001b[0m \u001b[0mprint\u001b[0m\u001b[0;34m(\u001b[0m\u001b[0mYtrain\u001b[0m\u001b[0;34m.\u001b[0m\u001b[0mshape\u001b[0m\u001b[0;34m)\u001b[0m\u001b[0;34m\u001b[0m\u001b[0m\n\u001b[1;32m      4\u001b[0m \u001b[0mYtest\u001b[0m \u001b[0;34m=\u001b[0m \u001b[0mX_test\u001b[0m\u001b[0;34m.\u001b[0m\u001b[0mdot\u001b[0m\u001b[0;34m(\u001b[0m\u001b[0mresultpca5\u001b[0m\u001b[0;34m.\u001b[0m\u001b[0mcomponents_\u001b[0m\u001b[0;34m.\u001b[0m\u001b[0mtranspose\u001b[0m\u001b[0;34m(\u001b[0m\u001b[0;34m)\u001b[0m\u001b[0;34m)\u001b[0m\u001b[0;34m\u001b[0m\u001b[0m\n\u001b[0;32m----> 5\u001b[0;31m \u001b[0mLResult\u001b[0m \u001b[0;34m=\u001b[0m \u001b[0mLR\u001b[0m\u001b[0;34m.\u001b[0m\u001b[0mfit\u001b[0m\u001b[0;34m(\u001b[0m\u001b[0mYtrain\u001b[0m\u001b[0;34m,\u001b[0m\u001b[0mlabel_train\u001b[0m\u001b[0;34m)\u001b[0m\u001b[0;34m\u001b[0m\u001b[0m\n\u001b[0m\u001b[1;32m      6\u001b[0m \u001b[0mLResult\u001b[0m\u001b[0;34m.\u001b[0m\u001b[0mscore\u001b[0m\u001b[0;34m(\u001b[0m\u001b[0mYtest\u001b[0m\u001b[0;34m,\u001b[0m\u001b[0mlabel_test\u001b[0m\u001b[0;34m)\u001b[0m\u001b[0;34m\u001b[0m\u001b[0m\n",
      "\u001b[0;31mNameError\u001b[0m: name 'LR' is not defined"
     ]
    }
   ],
   "source": [
    "Ytrain = X_train.dot(resultpca5.components_.transpose())\n",
    "\n",
    "print(Ytrain.shape)\n",
    "Ytest = X_test.dot(resultpca5.components_.transpose())\n",
    "LResult = LR.fit(Ytrain,label_train)\n",
    "LResult.score(Ytest,label_test)"
   ]
  },
  {
   "cell_type": "code",
   "execution_count": 17,
   "metadata": {},
   "outputs": [
    {
     "data": {
      "text/plain": [
       "0.8601587301587301"
      ]
     },
     "execution_count": 17,
     "metadata": {},
     "output_type": "execute_result"
    }
   ],
   "source": [
    "pca10 = PCA(n_components=20)\n",
    "resultpca10 = pca10.fit(X_train)\n",
    "Ytrain = X_train.dot(resultpca10.components_.transpose())\n",
    "Ytest = X_test.dot(resultpca10.components_.transpose())\n",
    "LResult = LR.fit(Ytrain,label_train)\n",
    "LResult.score(Ytest,label_test)"
   ]
  },
  {
   "cell_type": "code",
   "execution_count": 47,
   "metadata": {},
   "outputs": [],
   "source": [
    "text_file = open(\"/Users/panktibhalani/Documents/DM/HW2/spambase.txt\", \"r\");\n",
    "lines = text_file.readlines();\n",
    "matrix = []\n",
    "count = 0\n",
    "labels = []\n",
    "for line in lines:\n",
    "    values = line.split(\",\")\n",
    "    locallist = []\n",
    "    for val in values:\n",
    "        locallist.append(val)\n",
    "    a = locallist[len(locallist) - 1].split()\n",
    "    labels.append(a)\n",
    "    del locallist[-1]\n",
    "    locallist = list(map(float,locallist))\n",
    "    matrix.append(locallist)\n",
    "matrix=np.array(matrix)"
   ]
  },
  {
   "cell_type": "code",
   "execution_count": 50,
   "metadata": {},
   "outputs": [],
   "source": [
    "X_trainSP, X_testSP, label_trainSP, label_testSP = train_test_split(matrix,np.array(labels) , test_size=0.20, random_state=42)"
   ]
  },
  {
   "cell_type": "code",
   "execution_count": 54,
   "metadata": {},
   "outputs": [
    {
     "name": "stderr",
     "output_type": "stream",
     "text": [
      "/anaconda3/lib/python3.6/site-packages/sklearn/utils/validation.py:578: DataConversionWarning: A column-vector y was passed when a 1d array was expected. Please change the shape of y to (n_samples, ), for example using ravel().\n",
      "  y = column_or_1d(y, warn=True)\n"
     ]
    },
    {
     "name": "stdout",
     "output_type": "stream",
     "text": [
      "5: 0.7752442996742671\n",
      "6: 0.8197611292073833\n",
      "7: 0.8425624321389794\n",
      "8: 0.8490770901194354\n",
      "9: 0.8501628664495114\n",
      "10: 0.8490770901194354\n",
      "11: 0.8555917480998915\n",
      "12: 0.8805646036916395\n",
      "13: 0.9001085776330076\n",
      "14: 0.9001085776330076\n",
      "15: 0.8968512486427795\n",
      "16: 0.8979370249728555\n",
      "17: 0.9011943539630836\n",
      "18: 0.9001085776330076\n",
      "19: 0.9055374592833876\n",
      "20: 0.9055374592833876\n",
      "21: 0.9022801302931596\n",
      "22: 0.9022801302931596\n",
      "23: 0.9055374592833876\n",
      "24: 0.9001085776330076\n",
      "25: 0.9001085776330076\n",
      "26: 0.9001085776330076\n",
      "27: 0.9022801302931596\n",
      "28: 0.9044516829533116\n",
      "29: 0.9044516829533116\n",
      "30: 0.9066232356134636\n",
      "31: 0.9044516829533116\n",
      "32: 0.9077090119435396\n",
      "33: 0.9066232356134636\n",
      "34: 0.9066232356134636\n",
      "35: 0.9131378935939196\n",
      "36: 0.9142236699239956\n",
      "37: 0.9142236699239956\n",
      "38: 0.9142236699239956\n",
      "39: 0.9120521172638436\n",
      "40: 0.9109663409337676\n",
      "41: 0.9109663409337676\n",
      "42: 0.9153094462540716\n",
      "43: 0.9153094462540716\n",
      "44: 0.9196525515743756\n",
      "45: 0.9153094462540716\n",
      "46: 0.9153094462540716\n",
      "47: 0.9185667752442996\n",
      "48: 0.9207383279044516\n",
      "49: 0.9218241042345277\n",
      "50: 0.9229098805646037\n",
      "51: 0.9218241042345277\n",
      "52: 0.9229098805646037\n",
      "53: 0.9229098805646037\n",
      "54: 0.9229098805646037\n",
      "55: 0.9218241042345277\n",
      "56: 0.9218241042345277\n"
     ]
    }
   ],
   "source": [
    "for i in range(5,57):\n",
    "    pca = PCA(n_components=i)\n",
    "\n",
    "    pca.fit(X_trainSP)\n",
    "    Ytrain = pca.transform(X_trainSP)\n",
    "\n",
    "    Ytest = pca.transform(X_testSP)\n",
    "\n",
    "    # resultpca5 = pca5.fit(X_trainSP)\n",
    "    # Ytrain = np.matmul(X_trainSP,resultpca5.components_.transpose())\n",
    "    # Ytest = np.matmul(X_testSP,resultpca5.components_.transpose())\n",
    "    LResult = LR.fit(Ytrain,label_trainSP)\n",
    "    print(str(i) + \": \" + str(LResult.score(Ytest,label_testSP)))\n",
    "    \n",
    "    "
   ]
  },
  {
   "cell_type": "code",
   "execution_count": null,
   "metadata": {},
   "outputs": [],
   "source": []
  }
 ],
 "metadata": {
  "kernelspec": {
   "display_name": "Python 3",
   "language": "python",
   "name": "python3"
  },
  "language_info": {
   "codemirror_mode": {
    "name": "ipython",
    "version": 3
   },
   "file_extension": ".py",
   "mimetype": "text/x-python",
   "name": "python",
   "nbconvert_exporter": "python",
   "pygments_lexer": "ipython3",
   "version": "3.6.4"
  }
 },
 "nbformat": 4,
 "nbformat_minor": 2
}
