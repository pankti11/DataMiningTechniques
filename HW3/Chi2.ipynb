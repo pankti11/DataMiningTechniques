{
 "cells": [
  {
   "cell_type": "code",
   "execution_count": 9,
   "metadata": {},
   "outputs": [
    {
     "name": "stdout",
     "output_type": "stream",
     "text": [
      "(11314, 129796)\n",
      "(7532, 129796)\n"
     ]
    }
   ],
   "source": [
    "from sklearn.datasets import fetch_20newsgroups\n",
    "from sklearn.feature_extraction.text import TfidfVectorizer\n",
    "from sklearn.feature_extraction import text \n",
    "stop_wordstemp = text.ENGLISH_STOP_WORDS\n",
    "newsgroups_train = fetch_20newsgroups(subset=\"train\")\n",
    "\n",
    "newsgroups_trainlabel = newsgroups_train.target\n",
    "vectorizer = TfidfVectorizer(stop_words=stop_wordstemp)\n",
    "vectorstrain = vectorizer.fit_transform(newsgroups_train.data)\n",
    "newsgroups_test = fetch_20newsgroups(subset=\"test\")\n",
    "vocab = vectorizer.vocabulary_\n",
    "newvectorizer = TfidfVectorizer(vocabulary=vocab,stop_words=stop_wordstemp)\n",
    "vectorstest = newvectorizer.fit_transform(newsgroups_test.data)\n",
    "newsgroups_testlabel = newsgroups_test.target\n",
    "print(vectorstrain.shape)\n",
    "print(vectorstest.shape)"
   ]
  },
  {
   "cell_type": "code",
   "execution_count": 10,
   "metadata": {},
   "outputs": [
    {
     "data": {
      "text/plain": [
       "0.8301911842804036"
      ]
     },
     "execution_count": 10,
     "metadata": {},
     "output_type": "execute_result"
    }
   ],
   "source": [
    "from sklearn.linear_model import LogisticRegression\n",
    "LR = LogisticRegression()\n",
    "LResultsim = LR.fit(vectorstrain,newsgroups_trainlabel)\n",
    "LResultsim.score(vectorstest,newsgroups_testlabel)"
   ]
  },
  {
   "cell_type": "code",
   "execution_count": 11,
   "metadata": {},
   "outputs": [],
   "source": [
    "from sklearn.feature_selection import chi2\n",
    "from sklearn.feature_selection import SelectKBest\n",
    "X_new = SelectKBest(chi2, k=400).fit(vectorstrain, newsgroups_trainlabel)"
   ]
  },
  {
   "cell_type": "code",
   "execution_count": 12,
   "metadata": {},
   "outputs": [],
   "source": [
    "import numpy as np\n",
    "chi2result = np.where(X_new.get_support())[0]"
   ]
  },
  {
   "cell_type": "code",
   "execution_count": 13,
   "metadata": {},
   "outputs": [
    {
     "name": "stdout",
     "output_type": "stream",
     "text": [
      "(7532, 400)\n"
     ]
    }
   ],
   "source": [
    "vectorstestchi2 = vectorstest[:,chi2result]\n",
    "print(vectorstestchi2.shape)\n",
    "vectorstrainchi2 = vectorstrain[:,chi2result]"
   ]
  },
  {
   "cell_type": "code",
   "execution_count": 14,
   "metadata": {},
   "outputs": [],
   "source": [
    "from sklearn.linear_model import LogisticRegression\n",
    "LResult = LR.fit(vectorstrainchi2,newsgroups_trainlabel)"
   ]
  },
  {
   "cell_type": "code",
   "execution_count": 15,
   "metadata": {},
   "outputs": [
    {
     "data": {
      "text/plain": [
       "0.6643653744025492"
      ]
     },
     "execution_count": 15,
     "metadata": {},
     "output_type": "execute_result"
    }
   ],
   "source": [
    "LResult.score(vectorstestchi2,newsgroups_testlabel)\n",
    "\n",
    "\n",
    "# With Chi2 use Decision Tree because "
   ]
  },
  {
   "cell_type": "code",
   "execution_count": null,
   "metadata": {},
   "outputs": [],
   "source": [
    "from sklearn.feature_selection import mutual_info_classif\n",
    "X_new = SelectKBest(mutual_info_classif, k=200).fit(vectorstrain, newsgroups_trainlabel)"
   ]
  },
  {
   "cell_type": "code",
   "execution_count": null,
   "metadata": {},
   "outputs": [],
   "source": [
    "# Mutual Info works only with 2 classes\n",
    "MIresult = np.where(X_new.get_support())[0]\n",
    "vectorstestMI = vectorstest[:,MIresult]\n",
    "print(vectorstestchi2.shape)\n",
    "vectorstrainMI = vectorstrain[:,MIresult]\n",
    "LResult = LR.fit(vectorstrainMI,newsgroups_trainlabel)\n",
    "LResult.score(vectorstestMI,newsgroups_testlabel)"
   ]
  }
 ],
 "metadata": {
  "kernelspec": {
   "display_name": "Python 3",
   "language": "python",
   "name": "python3"
  },
  "language_info": {
   "codemirror_mode": {
    "name": "ipython",
    "version": 3
   },
   "file_extension": ".py",
   "mimetype": "text/x-python",
   "name": "python",
   "nbconvert_exporter": "python",
   "pygments_lexer": "ipython3",
   "version": "3.6.4"
  }
 },
 "nbformat": 4,
 "nbformat_minor": 2
}
