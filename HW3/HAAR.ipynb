{
 "cells": [
  {
   "cell_type": "code",
   "execution_count": 1,
   "metadata": {},
   "outputs": [],
   "source": [
    "from sklearn.datasets import fetch_mldata\n",
    "from sklearn.model_selection import train_test_split\n",
    "from random import *\n",
    "import numpy as np"
   ]
  },
  {
   "cell_type": "code",
   "execution_count": 2,
   "metadata": {},
   "outputs": [],
   "source": [
    "nist = fetch_mldata('MNIST original')\n",
    "mnist = nist.data\n",
    "mnistnew = mnist;\n",
    "mnistnew = mnistnew.reshape((70000,28,28))\n",
    "mnistlabel = nist.target"
   ]
  },
  {
   "cell_type": "code",
   "execution_count": 3,
   "metadata": {},
   "outputs": [],
   "source": [
    "def isBlack(x):\n",
    "    if(x != 0):\n",
    "        return 1\n",
    "    else:\n",
    "        return 0"
   ]
  },
  {
   "cell_type": "code",
   "execution_count": 18,
   "metadata": {},
   "outputs": [],
   "source": [
    "def RandomGenerateRectPoints():\n",
    "    point = []\n",
    "    while(len(point) < 100):\n",
    "        x = randint(0, 27)\n",
    "        y = randint(0, 27)\n",
    "        a = randint(5, 27)\n",
    "        b = randint(5, 27)\n",
    "        localpoint = []\n",
    "        if(x<a and y<b):\n",
    "            num = (a-x) * (b-y)\n",
    "            if(num >= 130 and num <= 170):\n",
    "                localpoint.append((x,y))\n",
    "                localpoint.append((a,b))\n",
    "                if(localpoint not in point):\n",
    "                    point.append(localpoint)\n",
    "    return point"
   ]
  },
  {
   "cell_type": "code",
   "execution_count": 19,
   "metadata": {},
   "outputs": [],
   "source": [
    "points = RandomGenerateRectPoints()"
   ]
  },
  {
   "cell_type": "code",
   "execution_count": 20,
   "metadata": {},
   "outputs": [],
   "source": [
    "BlackPoints = np.zeros((70000,28,28))"
   ]
  },
  {
   "cell_type": "code",
   "execution_count": 21,
   "metadata": {},
   "outputs": [],
   "source": [
    "imagecount = -1\n",
    "for image in mnistnew:\n",
    "    imagecount+=1\n",
    "    for i in range(len(image)):\n",
    "        for j in range(len(image[i])):\n",
    "            \n",
    "            if(i==0 and j ==0):\n",
    "                BlackPoints[imagecount][i][j] = isBlack(image[i][j])\n",
    "            elif(i==0 and j>0):\n",
    "                BlackPoints[imagecount][i][j] = BlackPoints[imagecount][0][j-1] + isBlack(image[i][j])\n",
    "            elif(j==0 and i>0):\n",
    "                BlackPoints[imagecount][i][j] = BlackPoints[imagecount][i-1][0] + isBlack(image[i][j])\n",
    "            else:\n",
    "                BlackPoints[imagecount][i][j] = BlackPoints[imagecount][i-1][j] + BlackPoints[imagecount][i][j-1] + isBlack(image[i][j]) - BlackPoints[imagecount][i-1][j-1]"
   ]
  },
  {
   "cell_type": "code",
   "execution_count": 28,
   "metadata": {},
   "outputs": [],
   "source": [
    "def countofblackpt(imagecount,x,y,a,b):\n",
    "    return BlackPoints[imagecount][a][b] - BlackPoints[imagecount][x][b] - BlackPoints[imagecount][a][y] + BlackPoints[imagecount][x][y]"
   ]
  },
  {
   "cell_type": "code",
   "execution_count": 29,
   "metadata": {},
   "outputs": [],
   "source": [
    "def features(imagecount,x,y,a,b):\n",
    "    \n",
    "    p = int((a+x)/2)\n",
    "    num1 = countofblackpt(imagecount,x,y,p,b) - countofblackpt(imagecount,p,y,a,b)\n",
    "    \n",
    "    q = int((y+b)/2)\n",
    "    num2 = countofblackpt(imagecount,x,y,a,q) - countofblackpt(imagecount,x,q,a,b)\n",
    "    return [num1,num2]"
   ]
  },
  {
   "cell_type": "code",
   "execution_count": 30,
   "metadata": {},
   "outputs": [],
   "source": [
    "ResultMatrix = []\n",
    "for i in range(70000):\n",
    "    localfeatures = []\n",
    "    for p in points:\n",
    "        ans = features(i,p[0][0],p[0][1],p[1][0],p[1][1])\n",
    "        localfeatures.append(ans[0])\n",
    "        localfeatures.append(ans[1])\n",
    "    ResultMatrix.append(localfeatures)\n",
    "ResultMatrix = np.array(ResultMatrix)"
   ]
  },
  {
   "cell_type": "code",
   "execution_count": 32,
   "metadata": {},
   "outputs": [
    {
     "name": "stdout",
     "output_type": "stream",
     "text": [
      "(70000, 200)\n"
     ]
    }
   ],
   "source": [
    "print(ResultMatrix.shape)\n",
    "X_train, X_test, label_train, label_test = train_test_split(ResultMatrix,mnistlabel , test_size=0.10, random_state=42)"
   ]
  },
  {
   "cell_type": "code",
   "execution_count": 34,
   "metadata": {},
   "outputs": [
    {
     "data": {
      "text/plain": [
       "0.8838571428571429"
      ]
     },
     "execution_count": 34,
     "metadata": {},
     "output_type": "execute_result"
    }
   ],
   "source": [
    "from sklearn.tree import DecisionTreeClassifier\n",
    "regr_2 = DecisionTreeClassifier(max_depth=15)\n",
    "regr_2MN = regr_2.fit(X_train,label_train)\n",
    "regr_2MN.score(X_test,label_test)"
   ]
  },
  {
   "cell_type": "code",
   "execution_count": 38,
   "metadata": {},
   "outputs": [
    {
     "data": {
      "text/plain": [
       "0.9422857142857143"
      ]
     },
     "execution_count": 38,
     "metadata": {},
     "output_type": "execute_result"
    }
   ],
   "source": [
    "from sklearn.ensemble import GradientBoostingClassifier\n",
    "grd = GradientBoostingClassifier()\n",
    "grd.fit(X_train,label_train)\n",
    "grd.score(X_test,label_test)"
   ]
  },
  {
   "cell_type": "code",
   "execution_count": null,
   "metadata": {},
   "outputs": [],
   "source": []
  }
 ],
 "metadata": {
  "kernelspec": {
   "display_name": "Python 3",
   "language": "python",
   "name": "python3"
  },
  "language_info": {
   "codemirror_mode": {
    "name": "ipython",
    "version": 3
   },
   "file_extension": ".py",
   "mimetype": "text/x-python",
   "name": "python",
   "nbconvert_exporter": "python",
   "pygments_lexer": "ipython3",
   "version": "3.6.4"
  }
 },
 "nbformat": 4,
 "nbformat_minor": 2
}
