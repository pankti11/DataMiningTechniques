{
 "cells": [
  {
   "cell_type": "code",
   "execution_count": 124,
   "metadata": {},
   "outputs": [],
   "source": [
    "import numpy as np\n",
    "from sklearn.metrics.pairwise import euclidean_distances\n",
    "from sklearn.metrics.pairwise import cosine_similarity\n",
    "import random"
   ]
  },
  {
   "cell_type": "code",
   "execution_count": 125,
   "metadata": {},
   "outputs": [],
   "source": [
    "text_file = open('/Users/panktibhalani/Downloads/ml-100k/u.data', 'r')\n",
    "lines = text_file.readlines()"
   ]
  },
  {
   "cell_type": "code",
   "execution_count": 126,
   "metadata": {},
   "outputs": [
    {
     "data": {
      "text/plain": [
       "['196', '242', '3', '881250949']"
      ]
     },
     "execution_count": 126,
     "metadata": {},
     "output_type": "execute_result"
    }
   ],
   "source": [
    "len(lines)\n",
    "lines[0].split()"
   ]
  },
  {
   "cell_type": "code",
   "execution_count": 127,
   "metadata": {},
   "outputs": [],
   "source": [
    "ratinglist = []\n",
    "for line in lines:\n",
    "    data = line.split()\n",
    "    ratinglist.append([int(data[0]),int(data[1]),int(data[2])])"
   ]
  },
  {
   "cell_type": "code",
   "execution_count": 128,
   "metadata": {},
   "outputs": [],
   "source": [
    "ratinglist = np.array(ratinglist)"
   ]
  },
  {
   "cell_type": "code",
   "execution_count": 129,
   "metadata": {},
   "outputs": [
    {
     "data": {
      "text/plain": [
       "(100000, 3)"
      ]
     },
     "execution_count": 129,
     "metadata": {},
     "output_type": "execute_result"
    }
   ],
   "source": [
    "ratinglist.shape"
   ]
  },
  {
   "cell_type": "code",
   "execution_count": 130,
   "metadata": {},
   "outputs": [],
   "source": [
    "utility = np.zeros((943,1682), dtype=np.int)"
   ]
  },
  {
   "cell_type": "code",
   "execution_count": 131,
   "metadata": {},
   "outputs": [],
   "source": [
    "for rating in ratinglist:\n",
    "    utility[rating[0] - 1][rating[1] - 1] = rating[2]"
   ]
  },
  {
   "cell_type": "code",
   "execution_count": 132,
   "metadata": {},
   "outputs": [],
   "source": [
    "rum = np.sum(utility, axis=1)\n",
    "N = np.count_nonzero(utility, axis=1)\n",
    "mean = rum/N"
   ]
  },
  {
   "cell_type": "code",
   "execution_count": 133,
   "metadata": {},
   "outputs": [],
   "source": [
    "sigmapart1 = np.sum(np.square(utility), axis=1)/N"
   ]
  },
  {
   "cell_type": "code",
   "execution_count": 134,
   "metadata": {},
   "outputs": [],
   "source": [
    "sigma = sigmapart1 - np.square(mean)"
   ]
  },
  {
   "cell_type": "code",
   "execution_count": 135,
   "metadata": {},
   "outputs": [],
   "source": [
    "i = 0\n",
    "normalizedutility = []\n",
    "for u in utility:\n",
    "    normalizedutility.append((u-mean[i])/sigma[i])\n",
    "normalizedutility = np.array(normalizedutility)"
   ]
  },
  {
   "cell_type": "code",
   "execution_count": 136,
   "metadata": {},
   "outputs": [
    {
     "data": {
      "text/plain": [
       "(943, 1682)"
      ]
     },
     "execution_count": 136,
     "metadata": {},
     "output_type": "execute_result"
    }
   ],
   "source": [
    "normalizedutility.shape"
   ]
  },
  {
   "cell_type": "code",
   "execution_count": 137,
   "metadata": {},
   "outputs": [],
   "source": [
    "def ComMovies(user1,user2):\n",
    "    \n",
    "    indices1 = np.nonzero(user1 > 0)\n",
    "    indeces2 = np.nonzero(user2 > 0)\n",
    "    return np.intersect1d(indices1,indeces2)"
   ]
  },
  {
   "cell_type": "code",
   "execution_count": 139,
   "metadata": {},
   "outputs": [],
   "source": [
    "i = 0\n",
    "simuser = np.zeros((943,943), dtype=np.float32)\n",
    "for user in utility:\n",
    "    j = 0\n",
    "    for userN in utility:\n",
    "        ComMoviestemp = ComMovies(user,userN)\n",
    "        if(i == j):\n",
    "            simuser[i][j] = 0\n",
    "        else:\n",
    "            simuser[i][j] = np.sum(np.multiply(normalizedutility[i][ComMoviestemp],normalizedutility[j][ComMoviestemp]))\n",
    "        j += 1\n",
    "    i += 1"
   ]
  },
  {
   "cell_type": "code",
   "execution_count": 140,
   "metadata": {},
   "outputs": [
    {
     "data": {
      "text/plain": [
       "2.054976"
      ]
     },
     "execution_count": 140,
     "metadata": {},
     "output_type": "execute_result"
    }
   ],
   "source": [
    "simuser[0][2]"
   ]
  },
  {
   "cell_type": "code",
   "execution_count": 141,
   "metadata": {},
   "outputs": [],
   "source": [
    "randmnusers = random.sample(range(0, 943), 100)\n",
    "predict = np.zeros((943,1682), dtype=np.float32)"
   ]
  },
  {
   "cell_type": "code",
   "execution_count": 144,
   "metadata": {},
   "outputs": [],
   "source": [
    "FinalAnswer = []\n",
    "for user in randmnusers:\n",
    "    answer = np.zeros(1682, dtype=np.float32)\n",
    "    \n",
    "    for i in range(943):\n",
    "        answer = np.add(answer,np.multiply(simuser[user][i],normalizedutility[i]))\n",
    "        \n",
    "    indices = np.nonzero(user > 0)[0]\n",
    "    answer /= np.sum(np.absolute(simuser[user]))\n",
    "    answer *= sigma[user]\n",
    "    \n",
    "    answer += mean[user]\n",
    "    \n",
    "    new_answer = np.zeros(1682, dtype=np.float32)\n",
    "    \n",
    "    for ind in indices:\n",
    "        new_answer[ind] = answer[ind]\n",
    "    \n",
    "    FinalAnswer.append(new_answer)"
   ]
  },
  {
   "cell_type": "code",
   "execution_count": 145,
   "metadata": {},
   "outputs": [
    {
     "data": {
      "text/plain": [
       "0.9439571060241639"
      ]
     },
     "execution_count": 145,
     "metadata": {},
     "output_type": "execute_result"
    }
   ],
   "source": [
    "\n",
    "# answer = np.zeros((1682,), dtype=np.float32)\n",
    "# for user in randmnusers:\n",
    "#     print((utility[user]-FinalAnswer[user]).shape)\n",
    "#     temp = ((utility[user]-FinalAnswer[user]) ** 2).reshape(1682)\n",
    "#     print(temp.shape)\n",
    "#     np.sum(answer,temp)\n",
    "\n",
    "# print(np.mean(answer))\n",
    "# np.sqrt(np.mean(answer))\n",
    "\n",
    "\n",
    "np.sqrt(np.mean((FinalAnswer-utility[randmnusers])**2))"
   ]
  },
  {
   "cell_type": "code",
   "execution_count": null,
   "metadata": {},
   "outputs": [],
   "source": []
  }
 ],
 "metadata": {
  "kernelspec": {
   "display_name": "Python 3",
   "language": "python",
   "name": "python3"
  },
  "language_info": {
   "codemirror_mode": {
    "name": "ipython",
    "version": 3
   },
   "file_extension": ".py",
   "mimetype": "text/x-python",
   "name": "python",
   "nbconvert_exporter": "python",
   "pygments_lexer": "ipython3",
   "version": "3.6.4"
  }
 },
 "nbformat": 4,
 "nbformat_minor": 2
}
