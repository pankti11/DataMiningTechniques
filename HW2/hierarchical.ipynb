{
 "cells": [
  {
   "cell_type": "code",
   "execution_count": 15,
   "metadata": {},
   "outputs": [
    {
     "name": "stdout",
     "output_type": "stream",
     "text": [
      "(10000, 784)\n"
     ]
    }
   ],
   "source": [
    "from utils import mnist_reader\n",
    "import numpy as np\n",
    "#t10K\n",
    "train_data, train_labels = mnist_reader.load_mnist('data/', kind='t10K')\n",
    "mnistnew = train_data/255;\n",
    "print(mnistnew.shape)"
   ]
  },
  {
   "cell_type": "code",
   "execution_count": 16,
   "metadata": {},
   "outputs": [],
   "source": [
    "from scipy.cluster.hierarchy import dendrogram, linkage"
   ]
  },
  {
   "cell_type": "code",
   "execution_count": 18,
   "metadata": {},
   "outputs": [],
   "source": [
    "Z = linkage(mnistnew, 'ward')"
   ]
  },
  {
   "cell_type": "code",
   "execution_count": 19,
   "metadata": {},
   "outputs": [],
   "source": [
    "import scipy\n",
    "X = scipy.cluster.hierarchy.fcluster(Z,10,criterion='maxclust')"
   ]
  },
  {
   "cell_type": "code",
   "execution_count": 20,
   "metadata": {},
   "outputs": [
    {
     "data": {
      "text/plain": [
       "10000"
      ]
     },
     "execution_count": 20,
     "metadata": {},
     "output_type": "execute_result"
    }
   ],
   "source": [
    "len(X)"
   ]
  },
  {
   "cell_type": "code",
   "execution_count": 21,
   "metadata": {},
   "outputs": [],
   "source": [
    "hashmap1 = {}\n",
    "for i in range(len(X)):\n",
    "    if X[i] not in hashmap1:\n",
    "        hashmap1[X[i]] = [i]\n",
    "    else:\n",
    "        hashmap1[X[i]].append(i)"
   ]
  },
  {
   "cell_type": "code",
   "execution_count": 25,
   "metadata": {},
   "outputs": [],
   "source": [
    "def calculateEvaluationmatrix(hashmap, givenlabels,data):\n",
    "    maxclus = []\n",
    "    hasmap = {}\n",
    "    ginindex = []\n",
    "    MJ = []\n",
    "    for key in hashmap.keys():\n",
    "        temp = {}\n",
    "        for datapoint in hashmap[key]:\n",
    "\n",
    "            templabel = givenlabels[datapoint]\n",
    "            if templabel in temp:\n",
    "                temp[templabel] += 1\n",
    "            else:\n",
    "                temp[templabel] = 1\n",
    "        datapercen = float(0)\n",
    "        for keytemp in temp.keys():\n",
    "            datapercen += ((temp[keytemp]/float(len(hashmap[key]))) ** 2)\n",
    "\n",
    "        ginindex.append(float(1)-float(datapercen))\n",
    "        MJ.append(float(len(hashmap[key])))\n",
    "        maxclus.append(max(temp.items(), key=operator.itemgetter(1))[1])\n",
    "    \n",
    "    summation = 0\n",
    "    for a in maxclus:\n",
    "        summation += a\n",
    "\n",
    "    ginisum = float(0)\n",
    "    for i in range(len(ginindex)):\n",
    "        ginisum += ginindex[i] * MJ[i]\n",
    "\n",
    "\n",
    "    print(\"Purity: \" + str(summation/data.shape[0]))\n",
    "    print(\"Giniindex: \" + str(ginisum/data.shape[0]))"
   ]
  },
  {
   "cell_type": "code",
   "execution_count": 26,
   "metadata": {},
   "outputs": [
    {
     "name": "stdout",
     "output_type": "stream",
     "text": [
      "Purity: 0.5763\n",
      "Giniindex: 0.5536211608658008\n"
     ]
    }
   ],
   "source": [
    "import operator\n",
    "calculateEvaluationmatrix(hashmap1,train_labels,mnistnew)"
   ]
  },
  {
   "cell_type": "code",
   "execution_count": null,
   "metadata": {},
   "outputs": [],
   "source": []
  }
 ],
 "metadata": {
  "kernelspec": {
   "display_name": "Python 3",
   "language": "python",
   "name": "python3"
  },
  "language_info": {
   "codemirror_mode": {
    "name": "ipython",
    "version": 3
   },
   "file_extension": ".py",
   "mimetype": "text/x-python",
   "name": "python",
   "nbconvert_exporter": "python",
   "pygments_lexer": "ipython3",
   "version": "3.6.4"
  }
 },
 "nbformat": 4,
 "nbformat_minor": 2
}
