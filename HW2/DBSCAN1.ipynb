{
 "cells": [
  {
   "cell_type": "code",
   "execution_count": 17,
   "metadata": {},
   "outputs": [],
   "source": [
    "import csv\n",
    "import numpy as np\n",
    "import matplotlib.pyplot as plt"
   ]
  },
  {
   "cell_type": "code",
   "execution_count": 18,
   "metadata": {},
   "outputs": [],
   "source": [
    "def DBSCAN(matrix, eps, minpts, neighboursnp, num_neighboursnp):\n",
    "    \n",
    "    Noise = []\n",
    "    c = 0;\n",
    "    label = {}\n",
    "    visited = np.full((matrix.shape[0], ), False)\n",
    "    for i in range(matrix.shape[0]):\n",
    "        \n",
    "        if (not visited[i]):\n",
    "           \n",
    "            visited[i] = True\n",
    "            neighbours = neighboursnp[i]\n",
    "            \n",
    "            if(num_neighboursnp[i] < minpts):\n",
    "                label[i] = \"Noise\"\n",
    "                continue\n",
    "            c += 1\n",
    "            label[i] = c;\n",
    "            q = np.where(neighbours == i)\n",
    "            if(q[0].shape[0] > 0):\n",
    "                neighbours = np.delete(neighbours, q[0][0])\n",
    "\n",
    "            count = 0\n",
    "            while(count < len(neighbours)):\n",
    "                point = neighbours[count]\n",
    "                if(not visited[point]):\n",
    "                    visited[point] = True\n",
    "                    neighbourstemp = neighboursnp[point]\n",
    "                    q = np.where(neighbourstemp == point)\n",
    "                    if(q[0].shape[0] > 0):\n",
    "                        neighbourstemp = np.delete(neighbourstemp, q[0][0])\n",
    "                    if(num_neighboursnp[point] >= minpts):\n",
    "                        neighbours = np.concatenate((neighbours,np.array(np.delete(neighbourstemp, np.searchsorted(neighbourstemp, np.intersect1d(neighbours,neighbourstemp))))))\n",
    "                    label[point] = c\n",
    "                count +=1\n",
    "    print(c)\n",
    "    clusterwise = {}\n",
    "    for lab in label.keys():\n",
    "        if(label[lab] != 'Noise'):\n",
    "            if label[lab] in clusterwise:\n",
    "                clusterwise[label[lab]].append(lab)\n",
    "            else:\n",
    "                list1 = [lab]\n",
    "                clusterwise[label[lab]] = list1[:]\n",
    "        else:\n",
    "            Noise.append(label[lab])\n",
    "    print(len(Noise))\n",
    "    return clusterwise"
   ]
  },
  {
   "cell_type": "code",
   "execution_count": 22,
   "metadata": {},
   "outputs": [
    {
     "name": "stdout",
     "output_type": "stream",
     "text": [
      "(80, 2)\n",
      "(80,)\n",
      "(80,)\n",
      "(80,)\n",
      "3\n",
      "26\n",
      "3\n"
     ]
    }
   ],
   "source": [
    "text_file = open('/Users/panktibhalani/Downloads/dbscan.csv', 'r')\n",
    "lines = text_file.readlines();\n",
    "matrix = []\n",
    "cluster = []\n",
    "points = []\n",
    "num_neighbours = []\n",
    "neighbors = []\n",
    "count = 0\n",
    "for line in lines:\n",
    "    line = line.replace('\"','')\n",
    "    line = line.replace('\\n','')\n",
    "    if(count > 0):\n",
    "        locallist = []\n",
    "        loc = line.split(\",\")\n",
    "        points.append(loc[1])\n",
    "        locallist.append(loc[2])\n",
    "        locallist.append(loc[3])\n",
    "        matrix.append(locallist)\n",
    "        num_neighbours.append(loc[4])\n",
    "        listtemp = loc[5:len(loc)]\n",
    "        loclist = list(map(int,listtemp))\n",
    "        neighbors.append(loclist)\n",
    "    count += 1\n",
    "    \n",
    "matrixnp = np.array(matrix)\n",
    "num_neighbours = list(map(int,num_neighbours))\n",
    "neighborsnp = np.array(neighbors)\n",
    "num_neighboursnp = np.array(num_neighbours)\n",
    "pointnp = np.array(points)\n",
    "print(matrixnp.shape)\n",
    "print(neighborsnp.shape)\n",
    "print(num_neighboursnp.shape)\n",
    "print(pointnp.shape)\n",
    "label = DBSCAN(matrixnp, 7.5, 3,neighborsnp,num_neighboursnp)\n",
    "print(len(label))"
   ]
  },
  {
   "cell_type": "code",
   "execution_count": 29,
   "metadata": {},
   "outputs": [
    {
     "data": {
      "image/png": "[encoded data removed]",
      "text/plain": [
       "<matplotlib.figure.Figure at 0x11c6c5eb8>"
      ]
     },
     "metadata": {},
     "output_type": "display_data"
    }
   ],
   "source": [
    "# print(matrixnp[:,1])\n",
    "\n",
    "plt.scatter(matrixnp[:,0].astype('float'),matrixnp[:,1].astype('float'))\n",
    "plt.show()"
   ]
  },
  {
   "cell_type": "code",
   "execution_count": 30,
   "metadata": {},
   "outputs": [
    {
     "data": {
      "image/png": "[encoded data removed]",
      "text/plain": [
       "<matplotlib.figure.Figure at 0x112c06b38>"
      ]
     },
     "metadata": {},
     "output_type": "display_data"
    }
   ],
   "source": [
    "clrArr = np.full(len(matrixnp),\"Black\")\n",
    "for l in label[1]:\n",
    "    clrArr[l] = 'Red'\n",
    "for l in label[2]:\n",
    "    clrArr[l] = 'Blue'\n",
    "for l in label[3]:\n",
    "    clrArr[l] = 'Green'\n",
    "\n",
    "plt.scatter(matrixnp[:,0].astype('float'),matrixnp[:,1].astype('float'), c=clrArr) \n",
    "plt.show()"
   ]
  },
  {
   "cell_type": "code",
   "execution_count": null,
   "metadata": {},
   "outputs": [],
   "source": [
    "clrArr = np.full(len(matrixnp),\"Black\")\n",
    "for l in label[1]:\n",
    "    clrArr[l] = 'Red'\n",
    "for l in label[2]:\n",
    "    clrArr[l] = 'Blue'\n",
    "for l in label[3]:\n",
    "    clrArr[l] = 'Green'\n",
    "\n",
    "plt.scatter(matrixnp[:,0],matrixnp[:,1], c=clrArr) \n",
    "plt.show()"
   ]
  }
 ],
 "metadata": {
  "kernelspec": {
   "display_name": "Python 3",
   "language": "python",
   "name": "python3"
  },
  "language_info": {
   "codemirror_mode": {
    "name": "ipython",
    "version": 3
   },
   "file_extension": ".py",
   "mimetype": "text/x-python",
   "name": "python",
   "nbconvert_exporter": "python",
   "pygments_lexer": "ipython3",
   "version": "3.6.4"
  }
 },
 "nbformat": 4,
 "nbformat_minor": 2
}
